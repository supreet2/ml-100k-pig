{
  "nbformat": 4,
  "nbformat_minor": 0,
  "metadata": {
    "colab": {
      "provenance": [],
      "toc_visible": true,
      "authorship_tag": "ABX9TyOiPcocjjCOM7tYSW5rT7Oz",
      "include_colab_link": true
    },
    "kernelspec": {
      "name": "python3",
      "display_name": "Python 3"
    },
    "language_info": {
      "name": "python"
    }
  },
  "cells": [
    {
      "cell_type": "markdown",
      "metadata": {
        "id": "view-in-github",
        "colab_type": "text"
      },
      "source": [
        "<a href=\"https://colab.research.google.com/github/supreet2/ml-100k-pig/blob/main/Spark_1.ipynb\" target=\"_parent\"><img src=\"https://colab.research.google.com/assets/colab-badge.svg\" alt=\"Open In Colab\"/></a>"
      ]
    },
    {
      "cell_type": "markdown",
      "source": [
        "#Setup"
      ],
      "metadata": {
        "id": "--AsdD07T79o"
      }
    },
    {
      "cell_type": "code",
      "source": [
        "!ls -l"
      ],
      "metadata": {
        "id": "TfswhxKDT7Zo"
      },
      "execution_count": null,
      "outputs": []
    },
    {
      "cell_type": "code",
      "execution_count": null,
      "metadata": {
        "id": "-9V6JHQPTIFx"
      },
      "outputs": [],
      "source": [
        "!apt-get update # Update apt-get repository.\n",
        "!apt-get install openjdk-8-jdk-headless -qq > /dev/null # Install Java.\n",
        "!wget -q http://archive.apache.org/dist/spark/spark-3.1.1/spark-3.1.1-bin-hadoop3.2.tgz # Download Apache Sparks.\n",
        "!tar xf spark-3.1.1-bin-hadoop3.2.tgz # Unzip the tgz file.\n",
        "!pip install -q findspark # Install findspark. Adds PySpark to the System path during runtime.\n",
        "\n",
        "# Set environment variables\n",
        "import os\n",
        "os.environ[\"JAVA_HOME\"] = \"/usr/lib/jvm/java-8-openjdk-amd64\"\n",
        "os.environ[\"SPARK_HOME\"] = \"/content/spark-3.1.1-bin-hadoop3.2\""
      ]
    },
    {
      "cell_type": "code",
      "source": [
        "!ls"
      ],
      "metadata": {
        "id": "SKAUl38MULkh"
      },
      "execution_count": null,
      "outputs": []
    },
    {
      "cell_type": "code",
      "source": [
        "# Initialize findspark\n",
        "import findspark\n",
        "findspark.init()\n",
        "\n",
        "# Create a PySpark session\n",
        "from pyspark.sql import SparkSession\n",
        "spark = SparkSession.builder.master(\"local[*]\").getOrCreate()"
      ],
      "metadata": {
        "id": "zerjkx0VUnZE"
      },
      "execution_count": null,
      "outputs": []
    },
    {
      "cell_type": "code",
      "source": [
        "spark"
      ],
      "metadata": {
        "id": "hvLON8vVVjLs"
      },
      "execution_count": null,
      "outputs": []
    },
    {
      "cell_type": "markdown",
      "source": [
        "#Get data"
      ],
      "metadata": {
        "id": "VpYrpxJ2YQTI"
      }
    },
    {
      "cell_type": "code",
      "source": [
        "!wget https://data.cityofchicago.org/api/views/ijzp-q8t2/rows.csv?accessType=DOWNLOAD\n"
      ],
      "metadata": {
        "colab": {
          "base_uri": "https://localhost:8080/"
        },
        "id": "FzUYZV4TbyGX",
        "outputId": "412d76d5-8d05-4300-8e72-cb5e1c4ac08a"
      },
      "execution_count": null,
      "outputs": [
        {
          "output_type": "stream",
          "name": "stdout",
          "text": [
            "--2024-02-10 05:13:53--  https://data.cityofchicago.org/api/views/ijzp-q8t2/rows.csv?accessType=DOWNLOAD\n",
            "Resolving data.cityofchicago.org (data.cityofchicago.org)... 52.206.140.199, 52.206.140.205, 52.206.68.26\n",
            "Connecting to data.cityofchicago.org (data.cityofchicago.org)|52.206.140.199|:443... connected.\n",
            "HTTP request sent, awaiting response... 200 OK\n",
            "Length: unspecified [text/csv]\n",
            "Saving to: ‘rows.csv?accessType=DOWNLOAD’\n",
            "\n",
            "rows.csv?accessType     [  <=>               ]   1.76G  3.02MB/s    in 10m 24s \n",
            "\n",
            "2024-02-10 05:24:17 (2.89 MB/s) - ‘rows.csv?accessType=DOWNLOAD’ saved [1887728756]\n",
            "\n"
          ]
        }
      ]
    },
    {
      "cell_type": "code",
      "source": [
        "!mv rows.csv\\?accessType\\=DOWNLOAD reported-crimes.csv"
      ],
      "metadata": {
        "id": "bSCqUJusb3PG"
      },
      "execution_count": null,
      "outputs": []
    },
    {
      "cell_type": "code",
      "source": [
        "!ls -l"
      ],
      "metadata": {
        "colab": {
          "base_uri": "https://localhost:8080/"
        },
        "id": "zcL2j-LMeVIk",
        "outputId": "4c70bc4e-1adc-4476-acd4-9cee337b4522"
      },
      "execution_count": null,
      "outputs": [
        {
          "output_type": "stream",
          "name": "stdout",
          "text": [
            "total 2068368\n",
            "-rw-r--r--  1 root root     288545 Feb  9 11:53 crimes.csv\n",
            "-rw-r--r--  1 root root     955222 Feb  9 11:53 crimes.json\n",
            "-rw-r--r--  1 root root     288651 Feb  9 11:53 ijzp-q8t2.csv\n",
            "-rw-r--r--  1 root root 1887728756 Feb  9 11:53 reported-crimes.csv\n",
            "drwxr-xr-x  1 root root       4096 Feb  8 14:21 sample_data\n",
            "drwxr-xr-x 13 1000 1000       4096 Feb 22  2021 spark-3.1.1-bin-hadoop3.2\n",
            "-rw-r--r--  1 root root  228721937 Feb 22  2021 spark-3.1.1-bin-hadoop3.2.tgz\n"
          ]
        }
      ]
    },
    {
      "cell_type": "code",
      "source": [
        "from pyspark.sql.functions import to_timestamp,col,lit\n",
        "rc = spark.read.csv('reported-crimes.csv',header=True,inferSchema=True)\\\n",
        "  .withColumn('Date',to_timestamp(col('Date'),'MM/dd/yyyy hh:mm:ss a'))\\\n",
        "  .filter(col('Date') <= lit('2018-11-11'))\n",
        "rc.show(5)"
      ],
      "metadata": {
        "colab": {
          "base_uri": "https://localhost:8080/"
        },
        "id": "MT7xjibKeZZz",
        "outputId": "bc95cd4a-61a2-4d7f-ddd7-8ee48920f9ca"
      },
      "execution_count": null,
      "outputs": [
        {
          "output_type": "stream",
          "name": "stdout",
          "text": [
            "+--------+-----------+-------------------+------------------+----+--------------------+--------------------+--------------------+------+--------+----+--------+----+--------------+--------+------------+------------+----+--------------------+--------+---------+--------+\n",
            "|      ID|Case Number|               Date|             Block|IUCR|        Primary Type|         Description|Location Description|Arrest|Domestic|Beat|District|Ward|Community Area|FBI Code|X Coordinate|Y Coordinate|Year|          Updated On|Latitude|Longitude|Location|\n",
            "+--------+-----------+-------------------+------------------+----+--------------------+--------------------+--------------------+------+--------+----+--------+----+--------------+--------+------------+------------+----+--------------------+--------+---------+--------+\n",
            "| 5741943|   HN549294|2007-08-25 09:22:18|074XX N ROGERS AVE|0560|             ASSAULT|              SIMPLE|               OTHER| false|   false|2422|      24|  49|             1|     08A|        null|        null|2007|08/17/2015 03:03:...|    null|     null|    null|\n",
            "| 1930689|   HH109118|2002-01-05 21:24:00|    007XX E 103 ST|0820|               THEFT|      $500 AND UNDER|         GAS STATION|  true|   false| 512|       5|null|          null|      06|        null|        null|2002|02/04/2016 06:33:...|    null|     null|    null|\n",
            "|12416974|   JE293464|2011-08-10 00:01:00|   031XX W 53RD PL|1753|OFFENSE INVOLVING...|SEXUAL ASSAULT OF...|           RESIDENCE| false|    true| 923|       9|  14|            63|      02|        null|        null|2011|09/14/2023 03:41:...|    null|     null|    null|\n",
            "|12536164|   JE439378|2015-09-24 00:00:00|   031XX W 53RD PL|1753|OFFENSE INVOLVING...|SEXUAL ASSAULT OF...|           APARTMENT| false|    true| 923|       9|  14|            63|      02|        null|        null|2015|09/14/2023 03:41:...|    null|     null|    null|\n",
            "|12536166|   JE439332|2014-09-07 00:00:00|   031XX W 53RD PL|1753|OFFENSE INVOLVING...|SEXUAL ASSAULT OF...|           APARTMENT| false|    true| 923|       9|  14|            63|      02|        null|        null|2014|09/14/2023 03:41:...|    null|     null|    null|\n",
            "+--------+-----------+-------------------+------------------+----+--------------------+--------------------+--------------------+------+--------+----+--------+----+--------------+--------+------------+------------+----+--------------------+--------+---------+--------+\n",
            "only showing top 5 rows\n",
            "\n"
          ]
        }
      ]
    },
    {
      "cell_type": "code",
      "source": [
        "rc.printSchema()"
      ],
      "metadata": {
        "colab": {
          "base_uri": "https://localhost:8080/"
        },
        "id": "U8Up9t2Wenn_",
        "outputId": "04771094-9324-4d21-e041-cc2576f2757b"
      },
      "execution_count": null,
      "outputs": [
        {
          "output_type": "stream",
          "name": "stdout",
          "text": [
            "root\n",
            " |-- ID: integer (nullable = true)\n",
            " |-- Case Number: string (nullable = true)\n",
            " |-- Date: timestamp (nullable = true)\n",
            " |-- Block: string (nullable = true)\n",
            " |-- IUCR: string (nullable = true)\n",
            " |-- Primary Type: string (nullable = true)\n",
            " |-- Description: string (nullable = true)\n",
            " |-- Location Description: string (nullable = true)\n",
            " |-- Arrest: boolean (nullable = true)\n",
            " |-- Domestic: boolean (nullable = true)\n",
            " |-- Beat: integer (nullable = true)\n",
            " |-- District: integer (nullable = true)\n",
            " |-- Ward: integer (nullable = true)\n",
            " |-- Community Area: integer (nullable = true)\n",
            " |-- FBI Code: string (nullable = true)\n",
            " |-- X Coordinate: integer (nullable = true)\n",
            " |-- Y Coordinate: integer (nullable = true)\n",
            " |-- Year: integer (nullable = true)\n",
            " |-- Updated On: string (nullable = true)\n",
            " |-- Latitude: double (nullable = true)\n",
            " |-- Longitude: double (nullable = true)\n",
            " |-- Location: string (nullable = true)\n",
            "\n"
          ]
        }
      ]
    },
    {
      "cell_type": "code",
      "source": [
        "c = rc.count()\n",
        "print(c)\n",
        "d = rc.select(\"ID\").distinct().count()\n",
        "print(d)"
      ],
      "metadata": {
        "colab": {
          "base_uri": "https://localhost:8080/"
        },
        "id": "eai5I8FRhhCt",
        "outputId": "4f5556cf-6f9b-4b33-e284-f04496fd6c44"
      },
      "execution_count": null,
      "outputs": [
        {
          "output_type": "stream",
          "name": "stdout",
          "text": [
            "6756906\n",
            "6756906\n"
          ]
        }
      ]
    },
    {
      "cell_type": "markdown",
      "source": [
        "#working with dataframes"
      ],
      "metadata": {
        "id": "QHbFczc1jvZs"
      }
    },
    {
      "cell_type": "code",
      "source": [
        "rc.columns"
      ],
      "metadata": {
        "colab": {
          "base_uri": "https://localhost:8080/"
        },
        "id": "2cmfbMymh0T3",
        "outputId": "4c3c3886-14c9-44d1-9255-30087b146aae"
      },
      "execution_count": null,
      "outputs": [
        {
          "output_type": "execute_result",
          "data": {
            "text/plain": [
              "['ID',\n",
              " 'Case Number',\n",
              " 'Date',\n",
              " 'Block',\n",
              " 'IUCR',\n",
              " 'Primary Type',\n",
              " 'Description',\n",
              " 'Location Description',\n",
              " 'Arrest',\n",
              " 'Domestic',\n",
              " 'Beat',\n",
              " 'District',\n",
              " 'Ward',\n",
              " 'Community Area',\n",
              " 'FBI Code',\n",
              " 'X Coordinate',\n",
              " 'Y Coordinate',\n",
              " 'Year',\n",
              " 'Updated On',\n",
              " 'Latitude',\n",
              " 'Longitude',\n",
              " 'Location']"
            ]
          },
          "metadata": {},
          "execution_count": 33
        }
      ]
    },
    {
      "cell_type": "code",
      "source": [],
      "metadata": {
        "id": "L0jK7NCmm4A1"
      },
      "execution_count": null,
      "outputs": []
    },
    {
      "cell_type": "markdown",
      "source": [
        "## creating a schema"
      ],
      "metadata": {
        "id": "aRVWIf_8wt5b"
      }
    },
    {
      "cell_type": "code",
      "source": [
        "from pyspark.sql.types import StructType, StructField, StringType,TimestampType,BooleanType,DoubleType,IntegerType"
      ],
      "metadata": {
        "id": "w-qc4v3Hmq_X"
      },
      "execution_count": null,
      "outputs": []
    },
    {
      "cell_type": "code",
      "source": [
        "user_defined_schema = StructType([\n",
        "    StructField('ID', StringType(), True),\n",
        "    StructField('Case Number',StringType(), True),\n",
        "    StructField('Date', TimestampType(), True),\n",
        "    StructField('Block', StringType(), True),\n",
        "    StructField('IUCR', StringType(), True),\n",
        "    StructField('PrimaryType', StringType(), True),\n",
        "    StructField('Description', StringType(), True),\n",
        "    StructField('LocationDescription', StringType(), True),\n",
        "    StructField('Arrest', BooleanType(), True),\n",
        "    StructField('Domestic', BooleanType(), True),\n",
        "    StructField('Beat', IntegerType(), True),\n",
        "    StructField('District', IntegerType(), True),\n",
        "    StructField('Ward', IntegerType(), True),\n",
        "    StructField('CommunityArea', IntegerType(), True),\n",
        "    StructField('FBICode', StringType(), True),\n",
        "    StructField('XCoordinate', IntegerType(), True),\n",
        "    StructField('YCoordinate', IntegerType(), True),\n",
        "    StructField('Year', IntegerType(), True),\n",
        "    StructField('UpdatedOn', StringType(), True),\n",
        "    StructField('Latitude', DoubleType(), True),\n",
        "    StructField('Longitude', DoubleType(), True),\n",
        "    StructField('Location', StringType(), True)\n",
        "])"
      ],
      "metadata": {
        "id": "S_uVjb99naaI"
      },
      "execution_count": null,
      "outputs": []
    },
    {
      "cell_type": "code",
      "source": [
        "rc = spark.read.csv('reported-crimes.csv',header=True,schema = user_defined_schema)\n",
        "rc.show(5)"
      ],
      "metadata": {
        "id": "2TuxF5IdqMKU"
      },
      "execution_count": null,
      "outputs": []
    },
    {
      "cell_type": "markdown",
      "source": [
        "##infering the schema"
      ],
      "metadata": {
        "id": "JTtzeCEhwM0J"
      }
    },
    {
      "cell_type": "code",
      "source": [
        " rc = spark.read.csv('reported-crimes.csv',header=True,inferSchema=True)\\\n",
        "  .withColumn('Date',to_timestamp(col('Date'),'MM/dd/yyyy hh:mm:ss a'))\\\n",
        "  .filter(col('Date') <= lit('2018-11-11'))\n",
        "rc.show(5)"
      ],
      "metadata": {
        "colab": {
          "base_uri": "https://localhost:8080/"
        },
        "id": "ON8sQv9Dsfxd",
        "outputId": "287a4d04-1331-487d-8a57-3cc2dc2408ce"
      },
      "execution_count": null,
      "outputs": [
        {
          "output_type": "stream",
          "name": "stdout",
          "text": [
            "+--------+-----------+-------------------+------------------+----+--------------------+--------------------+--------------------+------+--------+----+--------+----+--------------+--------+------------+------------+----+--------------------+--------+---------+--------+\n",
            "|      ID|Case Number|               Date|             Block|IUCR|        Primary Type|         Description|Location Description|Arrest|Domestic|Beat|District|Ward|Community Area|FBI Code|X Coordinate|Y Coordinate|Year|          Updated On|Latitude|Longitude|Location|\n",
            "+--------+-----------+-------------------+------------------+----+--------------------+--------------------+--------------------+------+--------+----+--------+----+--------------+--------+------------+------------+----+--------------------+--------+---------+--------+\n",
            "| 5741943|   HN549294|2007-08-25 09:22:18|074XX N ROGERS AVE|0560|             ASSAULT|              SIMPLE|               OTHER| false|   false|2422|      24|  49|             1|     08A|        null|        null|2007|08/17/2015 03:03:...|    null|     null|    null|\n",
            "| 1930689|   HH109118|2002-01-05 21:24:00|    007XX E 103 ST|0820|               THEFT|      $500 AND UNDER|         GAS STATION|  true|   false| 512|       5|null|          null|      06|        null|        null|2002|02/04/2016 06:33:...|    null|     null|    null|\n",
            "|12416974|   JE293464|2011-08-10 00:01:00|   031XX W 53RD PL|1753|OFFENSE INVOLVING...|SEXUAL ASSAULT OF...|           RESIDENCE| false|    true| 923|       9|  14|            63|      02|        null|        null|2011|09/14/2023 03:41:...|    null|     null|    null|\n",
            "|12536164|   JE439378|2015-09-24 00:00:00|   031XX W 53RD PL|1753|OFFENSE INVOLVING...|SEXUAL ASSAULT OF...|           APARTMENT| false|    true| 923|       9|  14|            63|      02|        null|        null|2015|09/14/2023 03:41:...|    null|     null|    null|\n",
            "|12536166|   JE439332|2014-09-07 00:00:00|   031XX W 53RD PL|1753|OFFENSE INVOLVING...|SEXUAL ASSAULT OF...|           APARTMENT| false|    true| 923|       9|  14|            63|      02|        null|        null|2014|09/14/2023 03:41:...|    null|     null|    null|\n",
            "+--------+-----------+-------------------+------------------+----+--------------------+--------------------+--------------------+------+--------+----+--------+----+--------------+--------+------------+------------+----+--------------------+--------+---------+--------+\n",
            "only showing top 5 rows\n",
            "\n"
          ]
        }
      ]
    },
    {
      "cell_type": "markdown",
      "source": [
        "#Working with Columns\n"
      ],
      "metadata": {
        "id": "oVc2FWgPw5rr"
      }
    },
    {
      "cell_type": "code",
      "source": [
        "rc.select('IUCR').show(5)  #displaying the 5 rows of iucr column"
      ],
      "metadata": {
        "colab": {
          "base_uri": "https://localhost:8080/"
        },
        "id": "6bcIdiO4wEFC",
        "outputId": "9c511a15-209c-463b-8d81-5b1228e50e24"
      },
      "execution_count": null,
      "outputs": [
        {
          "output_type": "stream",
          "name": "stdout",
          "text": [
            "+----+\n",
            "|IUCR|\n",
            "+----+\n",
            "|0560|\n",
            "|0820|\n",
            "|1753|\n",
            "|1753|\n",
            "|1753|\n",
            "+----+\n",
            "only showing top 5 rows\n",
            "\n"
          ]
        }
      ]
    },
    {
      "cell_type": "code",
      "source": [
        "rc.select(rc.IUCR).show(5)"
      ],
      "metadata": {
        "colab": {
          "base_uri": "https://localhost:8080/"
        },
        "id": "0hEjqM4UxRt-",
        "outputId": "09a726b7-604f-4ff2-8f19-e48350f3a205"
      },
      "execution_count": null,
      "outputs": [
        {
          "output_type": "stream",
          "name": "stdout",
          "text": [
            "+----+\n",
            "|IUCR|\n",
            "+----+\n",
            "|0560|\n",
            "|0820|\n",
            "|1753|\n",
            "|1753|\n",
            "|1753|\n",
            "+----+\n",
            "only showing top 5 rows\n",
            "\n"
          ]
        }
      ]
    },
    {
      "cell_type": "code",
      "source": [
        "rc.select(col('IUCR')).show(5)"
      ],
      "metadata": {
        "colab": {
          "base_uri": "https://localhost:8080/"
        },
        "id": "Lf9RnPBGxe3F",
        "outputId": "3d3030ad-2594-495a-b5ef-d583d46a32bb"
      },
      "execution_count": null,
      "outputs": [
        {
          "output_type": "stream",
          "name": "stdout",
          "text": [
            "+----+\n",
            "|IUCR|\n",
            "+----+\n",
            "|0560|\n",
            "|0820|\n",
            "|1753|\n",
            "|1753|\n",
            "|1753|\n",
            "+----+\n",
            "only showing top 5 rows\n",
            "\n"
          ]
        }
      ]
    },
    {
      "cell_type": "code",
      "source": [
        "# adding a column\n",
        "rc.withColumn('One',lit(1)).show(5)"
      ],
      "metadata": {
        "colab": {
          "base_uri": "https://localhost:8080/"
        },
        "id": "lrnt2gt5xpDe",
        "outputId": "4d3dd88b-de44-473e-b0b8-a030ef94151a"
      },
      "execution_count": null,
      "outputs": [
        {
          "output_type": "stream",
          "name": "stdout",
          "text": [
            "+--------+-----------+-------------------+------------------+----+--------------------+--------------------+--------------------+------+--------+----+--------+----+--------------+--------+------------+------------+----+--------------------+--------+---------+--------+---+\n",
            "|      ID|Case Number|               Date|             Block|IUCR|        Primary Type|         Description|Location Description|Arrest|Domestic|Beat|District|Ward|Community Area|FBI Code|X Coordinate|Y Coordinate|Year|          Updated On|Latitude|Longitude|Location|One|\n",
            "+--------+-----------+-------------------+------------------+----+--------------------+--------------------+--------------------+------+--------+----+--------+----+--------------+--------+------------+------------+----+--------------------+--------+---------+--------+---+\n",
            "| 5741943|   HN549294|2007-08-25 09:22:18|074XX N ROGERS AVE|0560|             ASSAULT|              SIMPLE|               OTHER| false|   false|2422|      24|  49|             1|     08A|        null|        null|2007|08/17/2015 03:03:...|    null|     null|    null|  1|\n",
            "| 1930689|   HH109118|2002-01-05 21:24:00|    007XX E 103 ST|0820|               THEFT|      $500 AND UNDER|         GAS STATION|  true|   false| 512|       5|null|          null|      06|        null|        null|2002|02/04/2016 06:33:...|    null|     null|    null|  1|\n",
            "|12416974|   JE293464|2011-08-10 00:01:00|   031XX W 53RD PL|1753|OFFENSE INVOLVING...|SEXUAL ASSAULT OF...|           RESIDENCE| false|    true| 923|       9|  14|            63|      02|        null|        null|2011|09/14/2023 03:41:...|    null|     null|    null|  1|\n",
            "|12536164|   JE439378|2015-09-24 00:00:00|   031XX W 53RD PL|1753|OFFENSE INVOLVING...|SEXUAL ASSAULT OF...|           APARTMENT| false|    true| 923|       9|  14|            63|      02|        null|        null|2015|09/14/2023 03:41:...|    null|     null|    null|  1|\n",
            "|12536166|   JE439332|2014-09-07 00:00:00|   031XX W 53RD PL|1753|OFFENSE INVOLVING...|SEXUAL ASSAULT OF...|           APARTMENT| false|    true| 923|       9|  14|            63|      02|        null|        null|2014|09/14/2023 03:41:...|    null|     null|    null|  1|\n",
            "+--------+-----------+-------------------+------------------+----+--------------------+--------------------+--------------------+------+--------+----+--------+----+--------------+--------+------------+------------+----+--------------------+--------+---------+--------+---+\n",
            "only showing top 5 rows\n",
            "\n"
          ]
        }
      ]
    },
    {
      "cell_type": "code",
      "source": [
        "#drop column\n",
        "rc = rc.drop(col('One'))"
      ],
      "metadata": {
        "id": "jPIv41egyca2"
      },
      "execution_count": null,
      "outputs": []
    },
    {
      "cell_type": "code",
      "source": [
        "display(rc)"
      ],
      "metadata": {
        "colab": {
          "base_uri": "https://localhost:8080/",
          "height": 69
        },
        "id": "-KRt12GdyuFp",
        "outputId": "0a576a4f-a21e-4500-aaa6-04da8154339b"
      },
      "execution_count": null,
      "outputs": [
        {
          "output_type": "display_data",
          "data": {
            "text/plain": [
              "DataFrame[ID: int, Case Number: string, Date: timestamp, Block: string, IUCR: string, Primary Type: string, Description: string, Location Description: string, Arrest: boolean, Domestic: boolean, Beat: int, District: int, Ward: int, Community Area: int, FBI Code: string, X Coordinate: int, Y Coordinate: int, Year: int, Updated On: string, Latitude: double, Longitude: double, Location: string]"
            ]
          },
          "metadata": {}
        }
      ]
    },
    {
      "cell_type": "markdown",
      "source": [
        "#working with rows"
      ],
      "metadata": {
        "id": "U4OlfW8mzkBT"
      }
    },
    {
      "cell_type": "code",
      "source": [
        "## adding data from 12 th of nov to a new dataframe\n",
        "## and then adding it to our original data frame\n",
        "one_day  = spark.read.csv('reported-crimes.csv',header=True,inferSchema=True)\\\n",
        "  .withColumn('Date',to_timestamp(col('Date'),'MM/dd/yyyy hh:mm:ss a'))\\\n",
        "  .filter(col('Date') == lit('2018-11-12'))\n",
        "one_day.count()"
      ],
      "metadata": {
        "colab": {
          "base_uri": "https://localhost:8080/"
        },
        "id": "5F8y_gsYyxRW",
        "outputId": "2c68a773-d085-44bb-b4f3-72b0126b5756"
      },
      "execution_count": null,
      "outputs": [
        {
          "output_type": "execute_result",
          "data": {
            "text/plain": [
              "4"
            ]
          },
          "metadata": {},
          "execution_count": 61
        }
      ]
    },
    {
      "cell_type": "code",
      "source": [
        "rc.union(one_day).orderBy('Date',ascending=False).show(5)"
      ],
      "metadata": {
        "colab": {
          "base_uri": "https://localhost:8080/"
        },
        "id": "YiUR8CGw1VRF",
        "outputId": "435087f0-ac5a-4149-f5ff-ad1c840a34f7"
      },
      "execution_count": null,
      "outputs": [
        {
          "output_type": "stream",
          "name": "stdout",
          "text": [
            "+--------+-----------+-------------------+-------------------+----+------------------+--------------------+--------------------+------+--------+----+--------+----+--------------+--------+------------+------------+----+--------------------+------------+-------------+--------------------+\n",
            "|      ID|Case Number|               Date|              Block|IUCR|      Primary Type|         Description|Location Description|Arrest|Domestic|Beat|District|Ward|Community Area|FBI Code|X Coordinate|Y Coordinate|Year|          Updated On|    Latitude|    Longitude|            Location|\n",
            "+--------+-----------+-------------------+-------------------+----+------------------+--------------------+--------------------+------+--------+----+--------+----+--------------+--------+------------+------------+----+--------------------+------------+-------------+--------------------+\n",
            "|11516594|   JB528186|2018-11-12 00:00:00|049XX S PRAIRIE AVE|2826|     OTHER OFFENSE|HARASSMENT BY ELE...|               OTHER| false|   false| 224|       2|   3|            38|      26|     1178879|     1872259|2018|11/28/2018 04:14:...|41.804775828|-87.619472488|(41.804775828, -8...|\n",
            "|13358766|   JH140578|2018-11-12 00:00:00|    008XX E 63RD ST|1153|DECEPTIVE PRACTICE|FINANCIAL IDENTIT...|           APARTMENT| false|   false| 313|       3|  20|            42|      11|        null|        null|2018|02/05/2024 03:41:...|        null|         null|                null|\n",
            "|11540042|   JB559262|2018-11-12 00:00:00|010XX N DEARBORN ST|1140|DECEPTIVE PRACTICE|        EMBEZZLEMENT|   CONVENIENCE STORE|  true|   false|1824|      18|   2|             8|      12|     1175747|     1907348|2018|03/16/2019 04:01:...|41.901133376|-87.629904979|(41.901133376, -8...|\n",
            "|11505149|   JB513151|2018-11-12 00:00:00| 003XX S WHIPPLE ST|0810|             THEFT|           OVER $500|              STREET| false|   false|1124|      11|  28|            27|      06|     1156099|     1898319|2018|11/19/2018 04:22:...|41.876776356|-87.702317641|(41.876776356, -8...|\n",
            "|11505581|   JB513620|2018-11-11 00:00:00| 049XX S KEELER AVE|0486|           BATTERY|DOMESTIC BATTERY ...|           RESIDENCE| false|    true| 815|       8|  14|            57|     08B|     1149195|     1871583|2018|11/18/2018 04:11:...|41.803545745|-87.728358627|(41.803545745, -8...|\n",
            "+--------+-----------+-------------------+-------------------+----+------------------+--------------------+--------------------+------+--------+----+--------+----+--------------+--------+------------+------------+----+--------------------+------------+-------------+--------------------+\n",
            "only showing top 5 rows\n",
            "\n"
          ]
        }
      ]
    },
    {
      "cell_type": "markdown",
      "source": [
        "#Top ten reporeted crime"
      ],
      "metadata": {
        "id": "MxTSjNYi29pt"
      }
    },
    {
      "cell_type": "code",
      "source": [
        "top_reported_crimes = rc.groupBy('Primary Type').count().orderBy('count',ascending=False)\n",
        "top_reported_crimes.show(10)\n"
      ],
      "metadata": {
        "colab": {
          "base_uri": "https://localhost:8080/"
        },
        "id": "6CYMxF4B2LeJ",
        "outputId": "2927f9d5-3a66-4d19-8ba8-fad826ba0159"
      },
      "execution_count": null,
      "outputs": [
        {
          "output_type": "stream",
          "name": "stdout",
          "text": [
            "+-------------------+-------+\n",
            "|       Primary Type|  count|\n",
            "+-------------------+-------+\n",
            "|              THEFT|1418529|\n",
            "|            BATTERY|1232293|\n",
            "|    CRIMINAL DAMAGE| 771523|\n",
            "|          NARCOTICS| 711778|\n",
            "|      OTHER OFFENSE| 419046|\n",
            "|            ASSAULT| 418522|\n",
            "|           BURGLARY| 388042|\n",
            "|MOTOR VEHICLE THEFT| 314136|\n",
            "| DECEPTIVE PRACTICE| 267273|\n",
            "|            ROBBERY| 255603|\n",
            "+-------------------+-------+\n",
            "only showing top 10 rows\n",
            "\n"
          ]
        }
      ]
    },
    {
      "cell_type": "markdown",
      "source": [
        "##Find the percentage of reported crime that led to an arrest\n"
      ],
      "metadata": {
        "id": "fGQmbQ-26HPq"
      }
    },
    {
      "cell_type": "code",
      "source": [
        "display(rc)   ## see the columns"
      ],
      "metadata": {
        "colab": {
          "base_uri": "https://localhost:8080/",
          "height": 69
        },
        "id": "XKXF3Weo354Z",
        "outputId": "bfb8632a-7eae-4e7f-9843-99bf53f5bf37"
      },
      "execution_count": null,
      "outputs": [
        {
          "output_type": "display_data",
          "data": {
            "text/plain": [
              "DataFrame[ID: int, Case Number: string, Date: timestamp, Block: string, IUCR: string, Primary Type: string, Description: string, Location Description: string, Arrest: boolean, Domestic: boolean, Beat: int, District: int, Ward: int, Community Area: int, FBI Code: string, X Coordinate: int, Y Coordinate: int, Year: int, Updated On: string, Latitude: double, Longitude: double, Location: string]"
            ]
          },
          "metadata": {}
        }
      ]
    },
    {
      "cell_type": "markdown",
      "source": [
        "###preparing the data"
      ],
      "metadata": {
        "id": "yhPfiqqIJIMQ"
      }
    },
    {
      "cell_type": "code",
      "source": [
        "#percentage of reported crime leading to an arrest\n",
        "\n",
        "df2 = rc.select('Primary Type','Arrest').filter(col('Arrest')==True)\\\n",
        "  .groupBy('Primary Type','Arrest').count()\n",
        "df2.show(5)"
      ],
      "metadata": {
        "colab": {
          "base_uri": "https://localhost:8080/"
        },
        "id": "XkIGwlh_DUq5",
        "outputId": "456df5e9-8cbb-48df-ce7c-88172672fcb6"
      },
      "execution_count": null,
      "outputs": [
        {
          "output_type": "stream",
          "name": "stdout",
          "text": [
            "+-----------------+------+------+\n",
            "|     Primary Type|Arrest| count|\n",
            "+-----------------+------+------+\n",
            "|CRIMINAL TRESPASS|  true|141634|\n",
            "|         GAMBLING|  true| 14318|\n",
            "|   NON - CRIMINAL|  true|     6|\n",
            "|     NON-CRIMINAL|  true|    10|\n",
            "|HUMAN TRAFFICKING|  true|     9|\n",
            "+-----------------+------+------+\n",
            "only showing top 5 rows\n",
            "\n"
          ]
        }
      ]
    },
    {
      "cell_type": "code",
      "source": [
        "df3 = df2.withColumnRenamed(\"count\",\"arrest_count\")\n",
        "df3 = df3.withColumnRenamed(\"Primary Type\", \"Primary_Type\")"
      ],
      "metadata": {
        "id": "Hui6Ir7LEq72"
      },
      "execution_count": null,
      "outputs": []
    },
    {
      "cell_type": "code",
      "source": [
        "df4 = top_reported_crimes.withColumnRenamed(\"count\",\"report_count\")"
      ],
      "metadata": {
        "id": "AA2QvC38FgpC"
      },
      "execution_count": null,
      "outputs": []
    },
    {
      "cell_type": "code",
      "source": [
        "display(df3)"
      ],
      "metadata": {
        "colab": {
          "base_uri": "https://localhost:8080/",
          "height": 34
        },
        "id": "eZTBFsVLWfyK",
        "outputId": "41198322-c168-49c1-9491-3dd1a641bc28"
      },
      "execution_count": null,
      "outputs": [
        {
          "output_type": "display_data",
          "data": {
            "text/plain": [
              "DataFrame[Primary_Type: string, Arrest: boolean, arrest_count: bigint]"
            ]
          },
          "metadata": {}
        }
      ]
    },
    {
      "cell_type": "markdown",
      "source": [
        "###join the df3 and df4 to get count of arrest vs reported crimes"
      ],
      "metadata": {
        "id": "whdxWecdJOxd"
      }
    },
    {
      "cell_type": "code",
      "source": [
        "from pyspark.sql import functions as F\n",
        "crime_count_df = df4.join(df3,F.col(\"Primary Type\") == F.col(\"Primary_Type\"))\n",
        "crime_count_df.show(5)"
      ],
      "metadata": {
        "colab": {
          "base_uri": "https://localhost:8080/"
        },
        "id": "GctAe_RoHin5",
        "outputId": "935ca075-28f2-4c7f-eaee-c9ce5365a5f6"
      },
      "execution_count": null,
      "outputs": [
        {
          "output_type": "stream",
          "name": "stdout",
          "text": [
            "+--------------------+------------+--------------------+------+------------+\n",
            "|        Primary Type|report_count|        Primary_Type|Arrest|arrest_count|\n",
            "+--------------------+------------+--------------------+------+------------+\n",
            "|OFFENSE INVOLVING...|       46869|OFFENSE INVOLVING...|  true|       10165|\n",
            "|CRIMINAL SEXUAL A...|        1407|CRIMINAL SEXUAL A...|  true|         249|\n",
            "|            STALKING|        3388|            STALKING|  true|         549|\n",
            "|PUBLIC PEACE VIOL...|       47785|PUBLIC PEACE VIOL...|  true|       30727|\n",
            "|NON-CRIMINAL (SUB...|           9|NON-CRIMINAL (SUB...|  true|           3|\n",
            "+--------------------+------------+--------------------+------+------------+\n",
            "only showing top 5 rows\n",
            "\n"
          ]
        }
      ]
    },
    {
      "cell_type": "markdown",
      "source": [],
      "metadata": {
        "id": "8e-l8FK8Jexy"
      }
    },
    {
      "cell_type": "code",
      "source": [
        "from pyspark.sql.functions import expr\n",
        "arrest_count = crime_count_df.withColumn(\"ArrestPercentage\",expr(\"arrest_count/report_count *100\"))\n",
        "arrest_count.show(25)"
      ],
      "metadata": {
        "colab": {
          "base_uri": "https://localhost:8080/"
        },
        "id": "O_sLIoDcIKZW",
        "outputId": "dcaca148-1bb7-4f05-a262-c42130367581"
      },
      "execution_count": null,
      "outputs": [
        {
          "output_type": "stream",
          "name": "stdout",
          "text": [
            "+--------------------+------------+--------------------+------+------------+------------------+\n",
            "|        Primary Type|report_count|        Primary_Type|Arrest|arrest_count|  ArrestPercentage|\n",
            "+--------------------+------------+--------------------+------+------------+------------------+\n",
            "|OFFENSE INVOLVING...|       46869|OFFENSE INVOLVING...|  true|       10165|21.688109411337987|\n",
            "|CRIMINAL SEXUAL A...|        1407|CRIMINAL SEXUAL A...|  true|         249| 17.69722814498934|\n",
            "|            STALKING|        3388|            STALKING|  true|         549|16.204250295159387|\n",
            "|PUBLIC PEACE VIOL...|       47785|PUBLIC PEACE VIOL...|  true|       30727| 64.30260542011091|\n",
            "|NON-CRIMINAL (SUB...|           9|NON-CRIMINAL (SUB...|  true|           3| 33.33333333333333|\n",
            "|           OBSCENITY|         586|           OBSCENITY|  true|         472| 80.54607508532423|\n",
            "|               ARSON|       11157|               ARSON|  true|        1464| 13.12180693734875|\n",
            "|   DOMESTIC VIOLENCE|           1|   DOMESTIC VIOLENCE|  true|           1|             100.0|\n",
            "|            GAMBLING|       14422|            GAMBLING|  true|       14318| 99.27887948966855|\n",
            "|   CRIMINAL TRESPASS|      193372|   CRIMINAL TRESPASS|  true|      141634|  73.2443166539106|\n",
            "|             ASSAULT|      418522|             ASSAULT|  true|       96832| 23.13665709329498|\n",
            "|      NON - CRIMINAL|          38|      NON - CRIMINAL|  true|           6|15.789473684210526|\n",
            "|LIQUOR LAW VIOLATION|       14068|LIQUOR LAW VIOLATION|  true|       13944| 99.11856696047768|\n",
            "| MOTOR VEHICLE THEFT|      314136| MOTOR VEHICLE THEFT|  true|       28706| 9.138080321898794|\n",
            "|               THEFT|     1418529|               THEFT|  true|      169570|11.953932559715028|\n",
            "|             BATTERY|     1232293|             BATTERY|  true|      280958|22.799610157649195|\n",
            "|             ROBBERY|      255603|             ROBBERY|  true|       24917| 9.748320637864188|\n",
            "|            HOMICIDE|        9476|            HOMICIDE|  true|        4874| 51.43520472773322|\n",
            "|           RITUALISM|          23|           RITUALISM|  true|           3|13.043478260869565|\n",
            "|    PUBLIC INDECENCY|         161|    PUBLIC INDECENCY|  true|         160| 99.37888198757764|\n",
            "| CRIM SEXUAL ASSAULT|       26387| CRIM SEXUAL ASSAULT|  true|        4303|16.307272520559366|\n",
            "|   HUMAN TRAFFICKING|          48|   HUMAN TRAFFICKING|  true|           9|             18.75|\n",
            "|        INTIMIDATION|        3937|        INTIMIDATION|  true|         699| 17.75463550927102|\n",
            "|        PROSTITUTION|       68327|        PROSTITUTION|  true|       68061| 99.61069562544822|\n",
            "|  DECEPTIVE PRACTICE|      267273|  DECEPTIVE PRACTICE|  true|       44294|16.572568123229807|\n",
            "+--------------------+------------+--------------------+------+------------+------------------+\n",
            "only showing top 25 rows\n",
            "\n"
          ]
        }
      ]
    },
    {
      "cell_type": "code",
      "source": [
        "from pyspark.sql.functions import round\n",
        "\n",
        "result = arrest_count.select(\"Primary Type\",round(col(\"ArrestPercentage\"),2)).orderBy(\"ArrestPercentage\",ascending=False).show(25)"
      ],
      "metadata": {
        "colab": {
          "base_uri": "https://localhost:8080/"
        },
        "id": "AC8xMQSjSlu-",
        "outputId": "08c46993-581a-43d7-8550-3e93ca9e0219"
      },
      "execution_count": null,
      "outputs": [
        {
          "output_type": "stream",
          "name": "stdout",
          "text": [
            "+--------------------+--------------------------+\n",
            "|        Primary Type|round(ArrestPercentage, 2)|\n",
            "+--------------------+--------------------------+\n",
            "|   DOMESTIC VIOLENCE|                     100.0|\n",
            "|        PROSTITUTION|                     99.61|\n",
            "|           NARCOTICS|                     99.42|\n",
            "|    PUBLIC INDECENCY|                     99.38|\n",
            "|            GAMBLING|                     99.28|\n",
            "|LIQUOR LAW VIOLATION|                     99.12|\n",
            "|CONCEALED CARRY L...|                     95.42|\n",
            "|INTERFERENCE WITH...|                     91.72|\n",
            "|           OBSCENITY|                     80.55|\n",
            "|   WEAPONS VIOLATION|                     79.59|\n",
            "|   CRIMINAL TRESPASS|                     73.24|\n",
            "|OTHER NARCOTIC VI...|                     70.97|\n",
            "|PUBLIC PEACE VIOL...|                      64.3|\n",
            "|            HOMICIDE|                     51.44|\n",
            "|NON-CRIMINAL (SUB...|                     33.33|\n",
            "|         SEX OFFENSE|                     30.66|\n",
            "|             ASSAULT|                     23.14|\n",
            "|             BATTERY|                      22.8|\n",
            "|OFFENSE INVOLVING...|                     21.69|\n",
            "|   HUMAN TRAFFICKING|                     18.75|\n",
            "|       OTHER OFFENSE|                     17.83|\n",
            "|        INTIMIDATION|                     17.75|\n",
            "|CRIMINAL SEXUAL A...|                      17.7|\n",
            "|  DECEPTIVE PRACTICE|                     16.57|\n",
            "| CRIM SEXUAL ASSAULT|                     16.31|\n",
            "+--------------------+--------------------------+\n",
            "only showing top 25 rows\n",
            "\n"
          ]
        }
      ]
    },
    {
      "cell_type": "code",
      "source": [
        "total_arrest_percentage = rc.filter(col(\"Arrest\") == True).count() / rc.select(\"Arrest\").count()"
      ],
      "metadata": {
        "id": "C8cwuZmjgHFf"
      },
      "execution_count": null,
      "outputs": []
    },
    {
      "cell_type": "code",
      "source": [
        "print(total_arrest_percentage)"
      ],
      "metadata": {
        "colab": {
          "base_uri": "https://localhost:8080/"
        },
        "id": "848zUGYghFcR",
        "outputId": "4e64ac79-e61e-44de-c694-fb0d4da15cc2"
      },
      "execution_count": null,
      "outputs": [
        {
          "output_type": "stream",
          "name": "stdout",
          "text": [
            "0.2775376777477739\n"
          ]
        }
      ]
    },
    {
      "cell_type": "markdown",
      "source": [
        "## Find top 3 locations for reported crimes"
      ],
      "metadata": {
        "id": "K9Vcg26de1Tl"
      }
    },
    {
      "cell_type": "code",
      "source": [
        "\n",
        "display(rc)"
      ],
      "metadata": {
        "colab": {
          "base_uri": "https://localhost:8080/",
          "height": 69
        },
        "id": "GipcpC61TcZV",
        "outputId": "87d0c1a2-31c5-4f69-c68e-cd994ffdef4c"
      },
      "execution_count": null,
      "outputs": [
        {
          "output_type": "display_data",
          "data": {
            "text/plain": [
              "DataFrame[ID: int, Case Number: string, Date: timestamp, Block: string, IUCR: string, Primary Type: string, Description: string, Location Description: string, Arrest: boolean, Domestic: boolean, Beat: int, District: int, Ward: int, Community Area: int, FBI Code: string, X Coordinate: int, Y Coordinate: int, Year: int, Updated On: string, Latitude: double, Longitude: double, Location: string]"
            ]
          },
          "metadata": {}
        }
      ]
    },
    {
      "cell_type": "code",
      "source": [
        "rc.groupBy(\"Location Description\").count().orderBy('count',ascending=False).show(3)"
      ],
      "metadata": {
        "colab": {
          "base_uri": "https://localhost:8080/"
        },
        "id": "ndCE7zw5e876",
        "outputId": "fddebe46-8446-497e-9af9-23a15a5d6643"
      },
      "execution_count": null,
      "outputs": [
        {
          "output_type": "stream",
          "name": "stdout",
          "text": [
            "+--------------------+-------+\n",
            "|Location Description|  count|\n",
            "+--------------------+-------+\n",
            "|              STREET|1770638|\n",
            "|           RESIDENCE|1146346|\n",
            "|           APARTMENT| 699273|\n",
            "+--------------------+-------+\n",
            "only showing top 3 rows\n",
            "\n"
          ]
        }
      ]
    },
    {
      "cell_type": "code",
      "source": [],
      "metadata": {
        "id": "h8WA-qo5fEZG"
      },
      "execution_count": null,
      "outputs": []
    },
    {
      "cell_type": "markdown",
      "source": [
        "# Built in functions"
      ],
      "metadata": {
        "id": "dsRHlMwtjb9P"
      }
    },
    {
      "cell_type": "code",
      "source": [
        "from pyspark.sql import functions as f\n",
        "print(dir(functions))"
      ],
      "metadata": {
        "colab": {
          "base_uri": "https://localhost:8080/"
        },
        "id": "4mvavbKHnxSs",
        "outputId": "bc3784c4-7f2f-49cf-8353-6abe1e98f2ee"
      },
      "execution_count": null,
      "outputs": [
        {
          "output_type": "stream",
          "name": "stdout",
          "text": [
            "['Column', 'DataFrame', 'DataType', 'PandasUDFType', 'PythonEvalType', 'SparkContext', 'StringType', 'UserDefinedFunction', '__builtins__', '__cached__', '__doc__', '__file__', '__loader__', '__name__', '__package__', '__spec__', '_create_column_from_literal', '_create_lambda', '_create_udf', '_get_get_jvm_function', '_get_lambda_parameters', '_invoke_binary_math_function', '_invoke_function', '_invoke_function_over_column', '_invoke_higher_order_function', '_options_to_str', '_test', '_to_java_column', '_to_seq', '_unresolved_named_lambda_variable', 'abs', 'acos', 'acosh', 'add_months', 'aggregate', 'approxCountDistinct', 'approx_count_distinct', 'array', 'array_contains', 'array_distinct', 'array_except', 'array_intersect', 'array_join', 'array_max', 'array_min', 'array_position', 'array_remove', 'array_repeat', 'array_sort', 'array_union', 'arrays_overlap', 'arrays_zip', 'asc', 'asc_nulls_first', 'asc_nulls_last', 'ascii', 'asin', 'asinh', 'assert_true', 'atan', 'atan2', 'atanh', 'avg', 'base64', 'bin', 'bitwiseNOT', 'broadcast', 'bround', 'bucket', 'cbrt', 'ceil', 'coalesce', 'col', 'collect_list', 'collect_set', 'column', 'concat', 'concat_ws', 'conv', 'corr', 'cos', 'cosh', 'count', 'countDistinct', 'covar_pop', 'covar_samp', 'crc32', 'create_map', 'cume_dist', 'current_date', 'current_timestamp', 'date_add', 'date_format', 'date_sub', 'date_trunc', 'datediff', 'dayofmonth', 'dayofweek', 'dayofyear', 'days', 'decode', 'degrees', 'dense_rank', 'desc', 'desc_nulls_first', 'desc_nulls_last', 'element_at', 'encode', 'exists', 'exp', 'explode', 'explode_outer', 'expm1', 'expr', 'factorial', 'filter', 'first', 'flatten', 'floor', 'forall', 'format_number', 'format_string', 'from_csv', 'from_json', 'from_unixtime', 'from_utc_timestamp', 'functools', 'get_json_object', 'greatest', 'grouping', 'grouping_id', 'hash', 'hex', 'hour', 'hours', 'hypot', 'initcap', 'input_file_name', 'instr', 'isnan', 'isnull', 'json_tuple', 'kurtosis', 'lag', 'last', 'last_day', 'lead', 'least', 'length', 'levenshtein', 'lit', 'locate', 'log', 'log10', 'log1p', 'log2', 'lower', 'lpad', 'ltrim', 'map_concat', 'map_entries', 'map_filter', 'map_from_arrays', 'map_from_entries', 'map_keys', 'map_values', 'map_zip_with', 'max', 'md5', 'mean', 'min', 'minute', 'monotonically_increasing_id', 'month', 'months', 'months_between', 'nanvl', 'next_day', 'nth_value', 'ntile', 'overlay', 'pandas_udf', 'percent_rank', 'percentile_approx', 'posexplode', 'posexplode_outer', 'pow', 'quarter', 'radians', 'raise_error', 'rand', 'randn', 'rank', 'regexp_extract', 'regexp_replace', 'repeat', 'reverse', 'rint', 'round', 'row_number', 'rpad', 'rtrim', 'schema_of_csv', 'schema_of_json', 'second', 'sequence', 'sha1', 'sha2', 'shiftLeft', 'shiftRight', 'shiftRightUnsigned', 'shuffle', 'signum', 'sin', 'since', 'sinh', 'size', 'skewness', 'slice', 'sort_array', 'soundex', 'spark_partition_id', 'split', 'sqrt', 'stddev', 'stddev_pop', 'stddev_samp', 'struct', 'substring', 'substring_index', 'sum', 'sumDistinct', 'sys', 'tan', 'tanh', 'timestamp_seconds', 'toDegrees', 'toRadians', 'to_csv', 'to_date', 'to_json', 'to_str', 'to_timestamp', 'to_utc_timestamp', 'transform', 'transform_keys', 'transform_values', 'translate', 'trim', 'trunc', 'udf', 'unbase64', 'unhex', 'unix_timestamp', 'upper', 'var_pop', 'var_samp', 'variance', 'warnings', 'weekofyear', 'when', 'window', 'xxhash64', 'year', 'years', 'zip_with']\n"
          ]
        }
      ]
    },
    {
      "cell_type": "markdown",
      "source": [
        "##String functions"
      ],
      "metadata": {
        "id": "FqHBqujboEzQ"
      }
    },
    {
      "cell_type": "code",
      "source": [
        "help(f.lower)"
      ],
      "metadata": {
        "colab": {
          "base_uri": "https://localhost:8080/"
        },
        "id": "31gX8tUpn4dO",
        "outputId": "aaadff95-abe1-4caf-8f9a-878043875738"
      },
      "execution_count": null,
      "outputs": [
        {
          "output_type": "stream",
          "name": "stdout",
          "text": [
            "Help on function lower in module pyspark.sql.functions:\n",
            "\n",
            "lower(col)\n",
            "    Converts a string expression to lower case.\n",
            "    \n",
            "    .. versionadded:: 1.5\n",
            "\n"
          ]
        }
      ]
    },
    {
      "cell_type": "code",
      "source": [
        "from pyspark.sql.functions import lower,upper,substring\n",
        "rc.select(lower(col(\"Primary Type\")).alias(\"crime_type\"),col(\"id\")).show(5)"
      ],
      "metadata": {
        "colab": {
          "base_uri": "https://localhost:8080/"
        },
        "id": "3LlrteXWokQt",
        "outputId": "e1c321b3-e1a9-4ebd-fa6d-fb4758978dac"
      },
      "execution_count": null,
      "outputs": [
        {
          "output_type": "stream",
          "name": "stdout",
          "text": [
            "+--------------------+--------+\n",
            "|          crime_type|      id|\n",
            "+--------------------+--------+\n",
            "|             assault| 5741943|\n",
            "|               theft| 1930689|\n",
            "|offense involving...|12416974|\n",
            "|offense involving...|12536164|\n",
            "|offense involving...|12536166|\n",
            "+--------------------+--------+\n",
            "only showing top 5 rows\n",
            "\n"
          ]
        }
      ]
    },
    {
      "cell_type": "code",
      "source": [
        "rc.select(upper(col(\"Primary Type\")).alias(\"crime_type\"),substring(col(\"Primary Type\"),1,7).alias(\"subst_ex\")).show(5)"
      ],
      "metadata": {
        "colab": {
          "base_uri": "https://localhost:8080/"
        },
        "id": "TdJH2AFto89m",
        "outputId": "7ddc6dc2-28a7-4557-f05d-9970ff4c3165"
      },
      "execution_count": null,
      "outputs": [
        {
          "output_type": "stream",
          "name": "stdout",
          "text": [
            "+--------------------+--------+\n",
            "|          crime_type|subst_ex|\n",
            "+--------------------+--------+\n",
            "|             ASSAULT| ASSAULT|\n",
            "|               THEFT|   THEFT|\n",
            "|OFFENSE INVOLVING...| OFFENSE|\n",
            "|OFFENSE INVOLVING...| OFFENSE|\n",
            "|OFFENSE INVOLVING...| OFFENSE|\n",
            "+--------------------+--------+\n",
            "only showing top 5 rows\n",
            "\n"
          ]
        }
      ]
    },
    {
      "cell_type": "markdown",
      "source": [
        "##numeric functions"
      ],
      "metadata": {
        "id": "qWsW9D1jtA39"
      }
    },
    {
      "cell_type": "code",
      "source": [
        "from pyspark.sql.functions import min,max\n"
      ],
      "metadata": {
        "id": "bjIj3ZTMrF4D"
      },
      "execution_count": null,
      "outputs": []
    },
    {
      "cell_type": "code",
      "source": [
        "rc.select(min(col(\"date\")),max(col(\"date\"))).show(1)"
      ],
      "metadata": {
        "colab": {
          "base_uri": "https://localhost:8080/"
        },
        "id": "FiTdhL_8tJz7",
        "outputId": "4ff9fede-4887-4d3c-b5f7-8b0c3edac28d"
      },
      "execution_count": null,
      "outputs": [
        {
          "output_type": "stream",
          "name": "stdout",
          "text": [
            "+-------------------+-------------------+\n",
            "|          min(date)|          max(date)|\n",
            "+-------------------+-------------------+\n",
            "|2001-01-01 00:00:00|2018-11-11 00:00:00|\n",
            "+-------------------+-------------------+\n",
            "\n"
          ]
        }
      ]
    },
    {
      "cell_type": "markdown",
      "source": [
        "##Date functions"
      ],
      "metadata": {
        "id": "plAM9iLCtzcD"
      }
    },
    {
      "cell_type": "code",
      "source": [
        "from pyspark.sql.functions import date_add,date_sub"
      ],
      "metadata": {
        "id": "7KSGIhaytZu2"
      },
      "execution_count": null,
      "outputs": []
    },
    {
      "cell_type": "code",
      "source": [
        "rc.select(date_sub(min(col(\"date\")),3),date_add(max(col(\"date\")),3)).show(1)"
      ],
      "metadata": {
        "colab": {
          "base_uri": "https://localhost:8080/"
        },
        "id": "6Jngpac8uVRv",
        "outputId": "5352400d-80f5-41ca-e67b-7e997adcca7e"
      },
      "execution_count": null,
      "outputs": [
        {
          "output_type": "stream",
          "name": "stdout",
          "text": [
            "+----------------------+----------------------+\n",
            "|date_sub(min(date), 3)|date_add(max(date), 3)|\n",
            "+----------------------+----------------------+\n",
            "|            2000-12-29|            2018-11-14|\n",
            "+----------------------+----------------------+\n",
            "\n"
          ]
        }
      ]
    },
    {
      "cell_type": "code",
      "source": [],
      "metadata": {
        "id": "ygD9rqc6uraY"
      },
      "execution_count": null,
      "outputs": []
    },
    {
      "cell_type": "code",
      "source": [],
      "metadata": {
        "id": "ncecUXrvvVsA"
      },
      "execution_count": null,
      "outputs": []
    }
  ]
}